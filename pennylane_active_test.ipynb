{
 "cells": [
  {
   "cell_type": "markdown",
   "metadata": {},
   "source": [
    "# active space test"
   ]
  },
  {
   "cell_type": "code",
   "execution_count": 13,
   "metadata": {
    "scrolled": true
   },
   "outputs": [
    {
     "name": "stdout",
     "output_type": "stream",
     "text": [
      "4\n",
      "  (-0.826837067101442) [I0]\n",
      "+ (-0.19788711575005355) [Z2]\n",
      "+ (-0.19788711575005355) [Z3]\n",
      "+ (-0.14105987074021184) [Z0]\n",
      "+ (-0.14105987074021184) [Z1]\n",
      "+ (-7.927662924994e-08) [Y1 Y3]\n",
      "+ (-7.927662924994e-08) [X1 X3]\n",
      "+ (1.4432347513702046e-07) [Y0 Y2]\n",
      "+ (1.4432347513702046e-07) [X0 X2]\n",
      "+ (0.06808935724853563) [Z0 Z2]\n",
      "+ (0.06808935724853563) [Z1 Z3]\n",
      "+ (0.07385775378272749) [Z0 Z3]\n",
      "+ (0.07385775378272749) [Z1 Z2]\n",
      "+ (0.13654139361855194) [Z2 Z3]\n",
      "+ (0.18151044237875263) [Z0 Z1]\n",
      "+ (1.9819157310967117e-08) [X0 Z1 X2]\n",
      "+ (1.9819157310967117e-08) [Y0 Z1 Y2]\n",
      "+ (1.9819157314002883e-08) [X1 Z2 X3]\n",
      "+ (1.9819157314002883e-08) [Y1 Z2 Y3]\n",
      "+ (-0.0057683965341918724) [Y0 Y1 X2 X3]\n",
      "+ (-0.0057683965341918724) [X0 X1 Y2 Y3]\n",
      "+ (-7.927662924994e-08) [Y0 Z1 Y2 Z3]\n",
      "+ (-7.927662924994e-08) [X0 Z1 X2 Z3]\n",
      "+ (1.4432347513702046e-07) [Z0 Y1 Z2 Y3]\n",
      "+ (1.4432347513702046e-07) [Z0 X1 Z2 X3]\n",
      "+ (0.0057683965341918724) [Y0 X1 X2 Y3]\n",
      "+ (0.0057683965341918724) [X0 Y1 Y2 X3]\n",
      "[1 0 0 0]\n",
      "[[1, 3]]\n",
      "[]\n",
      "[[1, 2, 3]]\n",
      "[]\n",
      "step = 0,  E = -1.26758035 Ha, params[0] = 0.00000000\n",
      "step = 10,  E = -1.26758035 Ha, params[0] = 0.00000000\n",
      "step = 20,  E = -1.26758035 Ha, params[0] = 0.00000000\n",
      "step = 30,  E = -1.26758035 Ha, params[0] = 0.00000000\n",
      "step = 40,  E = -1.26758035 Ha, params[0] = 0.00000000\n",
      "step = 50,  E = -1.26758035 Ha, params[0] = 0.00000000\n",
      "step = 60,  E = -1.26758035 Ha, params[0] = 0.00000000\n",
      "step = 70,  E = -1.26758035 Ha, params[0] = 0.00000000\n",
      "step = 80,  E = -1.26758035 Ha, params[0] = 0.00000000\n",
      "step = 90,  E = -1.26758035 Ha, params[0] = 0.00000000\n",
      "step = 100,  E = -1.26758035 Ha, params[0] = 0.00000000\n",
      "step = 110,  E = -1.26758035 Ha, params[0] = 0.00000000\n",
      "step = 120,  E = -1.26758035 Ha, params[0] = 0.00000000\n",
      "[0.]\n"
     ]
    }
   ],
   "source": [
    "import pennylane as qml\n",
    "from pennylane import numpy as np\n",
    "\n",
    "bohr2ang = 0.52917721092\n",
    "\n",
    "# Define the molecule\n",
    "symbols  = ['H', 'H', 'H']\n",
    "geometry = np.array([[0.01076341,  0.04449877,  0.0],\n",
    "                     [0.98729513,  1.63059094,  0.0],\n",
    "                     [1.87262415, -0.00815842,  0.0]], requires_grad = False)/ bohr2ang\n",
    "electrons = 3\n",
    "charge = 0\n",
    "\n",
    "# Build the electronic Hamiltonian\n",
    "H, qubits = qml.qchem.molecular_hamiltonian(symbols, geometry, charge=charge, mult=2, method=\"pyscf\", \n",
    "                                            active_electrons=1, active_orbitals=2, basis=\"sto-3g\")  # active_orbitals are spatial orbitals\n",
    "# デフォルトのmethod=\"dhf\"は変な解に収束してしまうので使わない\n",
    "print(qubits)\n",
    "print(H)\n",
    "# Define the HF state\n",
    "hf_state = qml.qchem.hf_state(1, 4)  # change nele and norbs into the ones within active space # Here, orbitals means spin orbitals (= qubits) \n",
    "print(hf_state)\n",
    "# Generate single and double excitations\n",
    "singles, doubles = qml.qchem.excitations(electrons, qubits) \n",
    "print(singles)\n",
    "print(doubles)\n",
    "# Map excitations to the wires the UCCSD circuit will act on\n",
    "s_wires, d_wires = qml.qchem.excitations_to_wires(singles, doubles)\n",
    "print(s_wires)\n",
    "print(d_wires)\n",
    "# Define the device\n",
    "dev = qml.device(\"default.qubit\", wires=qubits)\n",
    "\n",
    "# Define the qnode\n",
    "@qml.qnode(dev)\n",
    "def circuit(params, wires, s_wires, d_wires, hf_state):\n",
    "    qml.UCCSD(params, wires, s_wires, d_wires, hf_state)\n",
    "    return qml.expval(H)\n",
    "\n",
    "# Define the initial values of the circuit parameters\n",
    "params = np.zeros(len(singles) + len(doubles))\n",
    "\n",
    "# Define the optimizer\n",
    "optimizer = qml.SPSAOptimizer(maxiter=100)\n",
    "optimizer = qml.GradientDescentOptimizer(stepsize=0.3)\n",
    "\n",
    "# Optimize the circuit parameters and compute the energy\n",
    "for n in range(121):\n",
    "    params, energy = optimizer.step_and_cost(circuit, params,\n",
    "    wires=range(qubits), s_wires=s_wires, d_wires=d_wires, hf_state=hf_state)\n",
    "    if n % 10 == 0:\n",
    "        print(\"step = {:},  E = {:.8f} Ha, params[0] = {:.8f}\".format(n, energy, params[0]))\n",
    "print(params)"
   ]
  },
  {
   "cell_type": "code",
   "execution_count": null,
   "metadata": {},
   "outputs": [],
   "source": [
    "# 定義上パラメータは自分の実装の2倍になる"
   ]
  },
  {
   "cell_type": "code",
   "execution_count": null,
   "metadata": {},
   "outputs": [],
   "source": []
  }
 ],
 "metadata": {
  "kernelspec": {
   "display_name": "Python 3 (ipykernel)",
   "language": "python",
   "name": "python3"
  },
  "language_info": {
   "codemirror_mode": {
    "name": "ipython",
    "version": 3
   },
   "file_extension": ".py",
   "mimetype": "text/x-python",
   "name": "python",
   "nbconvert_exporter": "python",
   "pygments_lexer": "ipython3",
   "version": "3.8.10"
  }
 },
 "nbformat": 4,
 "nbformat_minor": 4
}
